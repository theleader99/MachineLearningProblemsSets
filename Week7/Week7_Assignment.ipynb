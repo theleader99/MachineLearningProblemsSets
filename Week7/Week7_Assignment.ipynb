{
  "nbformat": 4,
  "nbformat_minor": 0,
  "metadata": {
    "kernelspec": {
      "display_name": "Python 3",
      "language": "python",
      "name": "python3"
    },
    "language_info": {
      "codemirror_mode": {
        "name": "ipython",
        "version": 3
      },
      "file_extension": ".py",
      "mimetype": "text/x-python",
      "name": "python",
      "nbconvert_exporter": "python",
      "pygments_lexer": "ipython3",
      "version": "3.7.6"
    },
    "colab": {
      "name": "Week7-Assignment",
      "provenance": [],
      "collapsed_sections": []
    }
  },
  "cells": [
    {
      "cell_type": "markdown",
      "metadata": {
        "id": "s8btHNo7H5Cf"
      },
      "source": [
        "# Organize ML projects with Scikit-Learn"
      ]
    },
    {
      "cell_type": "markdown",
      "metadata": {
        "id": "8yK9CuWlH5Ch"
      },
      "source": [
        "While Machine Learning is powerful, people often overestimate it: apply machine learning to your project, and all your problems will be solved. In reality, it's not this simple. To be effective, one needs to organize the work very well. In this notebook, we will walkthrough practical aspects of a ML project. To look at the big picture, let's start with a checklist below. It should work reasonably well for most ML projects, but make sure to adapt it to your needs:\n",
        "\n",
        "1. **Define the scope of work and objective**\n",
        "    * How is your solution be used?\n",
        "    * How should performance be measured? Are there any contraints?\n",
        "    * How would the problem be solved manually?\n",
        "    * List the available assumptions, and verify if possible.\n",
        "    \n",
        "    \n",
        "2. **Get the data**\n",
        "    * Document where you can get that data\n",
        "    * Store data in a workspace you can easily access\n",
        "    * Convert the data to a format you can easily manipulate\n",
        "    * Check the overview (size, type, sample, description, statistics)\n",
        "    * Data cleaning\n",
        "    \n",
        "    \n",
        "3. **EDA & Data transformation**\n",
        "    * Study each attribute and its characteristics (missing values, type of distribution, usefulness)\n",
        "    * Visualize the data\n",
        "    * Study the correlations between attributes\n",
        "    * Feature selection, Feature Engineering, Feature scaling\n",
        "    * Write functions for all data transformations\n",
        "    \n",
        "    \n",
        "4. **Train models**\n",
        "    * Automate as much as possible\n",
        "    * Train promising models quickly using standard parameters. Measure and compare their performance\n",
        "    * Analyze the errors the models make\n",
        "    * Shortlist the top three of five most promising models, preferring models that make different types of errors.\n",
        "\n",
        "\n",
        "5. **Fine-tunning**\n",
        "    * Treat data transformation choices as hyperparameters, expecially when you are not sure about them (e.g., replace missing values with zeros or with the median value)\n",
        "    * Unless there are very few hyperparameter value to explore, prefer random search over grid search.\n",
        "    * Try ensemble methods\n",
        "    * Test your final model on the test set to estimate the generalizaiton error. Don't tweak your model again, you would start overfitting the test set."
      ]
    },
    {
      "cell_type": "markdown",
      "metadata": {
        "id": "ofeuKevOH5Ch"
      },
      "source": [
        "## Example: Articles categorization"
      ]
    },
    {
      "cell_type": "markdown",
      "metadata": {
        "id": "m2NSUqUEH5Ci"
      },
      "source": [
        "### Objectives"
      ]
    },
    {
      "cell_type": "markdown",
      "metadata": {
        "id": "5GttlMG-H5Cj"
      },
      "source": [
        "Build a model to determine the categories of articles. "
      ]
    },
    {
      "cell_type": "markdown",
      "metadata": {
        "id": "EwbjWOG1H5Ck"
      },
      "source": [
        "### Get Data"
      ]
    },
    {
      "cell_type": "code",
      "metadata": {
        "id": "iWq7xex_H5Ck"
      },
      "source": [
        "import numpy as np\n",
        "import pandas as pd\n",
        "import seaborn as sns\n",
        "import matplotlib.pyplot as plt\n",
        "\n",
        "from sklearn.feature_extraction.text import TfidfVectorizer\n",
        "from sklearn.ensemble import RandomForestClassifier\n",
        "\n",
        "%matplotlib inline\n",
        "\n",
        "import warnings\n",
        "warnings.filterwarnings('ignore')\n",
        "\n",
        "sns.set_style(\"whitegrid\")"
      ],
      "execution_count": 1,
      "outputs": []
    },
    {
      "cell_type": "code",
      "metadata": {
        "id": "m9W7Hzt2H5Cp",
        "outputId": "0324fe19-9c9e-4daf-d9a1-17f612c9973b",
        "colab": {
          "base_uri": "https://localhost:8080/",
          "height": 407
        }
      },
      "source": [
        "bbc = pd.read_csv('https://raw.githubusercontent.com/dhminh1024/practice_datasets/master/bbc-text.csv')\n",
        "bbc"
      ],
      "execution_count": 2,
      "outputs": [
        {
          "output_type": "execute_result",
          "data": {
            "text/html": [
              "<div>\n",
              "<style scoped>\n",
              "    .dataframe tbody tr th:only-of-type {\n",
              "        vertical-align: middle;\n",
              "    }\n",
              "\n",
              "    .dataframe tbody tr th {\n",
              "        vertical-align: top;\n",
              "    }\n",
              "\n",
              "    .dataframe thead th {\n",
              "        text-align: right;\n",
              "    }\n",
              "</style>\n",
              "<table border=\"1\" class=\"dataframe\">\n",
              "  <thead>\n",
              "    <tr style=\"text-align: right;\">\n",
              "      <th></th>\n",
              "      <th>category</th>\n",
              "      <th>text</th>\n",
              "    </tr>\n",
              "  </thead>\n",
              "  <tbody>\n",
              "    <tr>\n",
              "      <th>0</th>\n",
              "      <td>tech</td>\n",
              "      <td>tv future in the hands of viewers with home th...</td>\n",
              "    </tr>\n",
              "    <tr>\n",
              "      <th>1</th>\n",
              "      <td>business</td>\n",
              "      <td>worldcom boss  left books alone  former worldc...</td>\n",
              "    </tr>\n",
              "    <tr>\n",
              "      <th>2</th>\n",
              "      <td>sport</td>\n",
              "      <td>tigers wary of farrell  gamble  leicester say ...</td>\n",
              "    </tr>\n",
              "    <tr>\n",
              "      <th>3</th>\n",
              "      <td>sport</td>\n",
              "      <td>yeading face newcastle in fa cup premiership s...</td>\n",
              "    </tr>\n",
              "    <tr>\n",
              "      <th>4</th>\n",
              "      <td>entertainment</td>\n",
              "      <td>ocean s twelve raids box office ocean s twelve...</td>\n",
              "    </tr>\n",
              "    <tr>\n",
              "      <th>...</th>\n",
              "      <td>...</td>\n",
              "      <td>...</td>\n",
              "    </tr>\n",
              "    <tr>\n",
              "      <th>2220</th>\n",
              "      <td>business</td>\n",
              "      <td>cars pull down us retail figures us retail sal...</td>\n",
              "    </tr>\n",
              "    <tr>\n",
              "      <th>2221</th>\n",
              "      <td>politics</td>\n",
              "      <td>kilroy unveils immigration policy ex-chatshow ...</td>\n",
              "    </tr>\n",
              "    <tr>\n",
              "      <th>2222</th>\n",
              "      <td>entertainment</td>\n",
              "      <td>rem announce new glasgow concert us band rem h...</td>\n",
              "    </tr>\n",
              "    <tr>\n",
              "      <th>2223</th>\n",
              "      <td>politics</td>\n",
              "      <td>how political squabbles snowball it s become c...</td>\n",
              "    </tr>\n",
              "    <tr>\n",
              "      <th>2224</th>\n",
              "      <td>sport</td>\n",
              "      <td>souness delight at euro progress boss graeme s...</td>\n",
              "    </tr>\n",
              "  </tbody>\n",
              "</table>\n",
              "<p>2225 rows × 2 columns</p>\n",
              "</div>"
            ],
            "text/plain": [
              "           category                                               text\n",
              "0              tech  tv future in the hands of viewers with home th...\n",
              "1          business  worldcom boss  left books alone  former worldc...\n",
              "2             sport  tigers wary of farrell  gamble  leicester say ...\n",
              "3             sport  yeading face newcastle in fa cup premiership s...\n",
              "4     entertainment  ocean s twelve raids box office ocean s twelve...\n",
              "...             ...                                                ...\n",
              "2220       business  cars pull down us retail figures us retail sal...\n",
              "2221       politics  kilroy unveils immigration policy ex-chatshow ...\n",
              "2222  entertainment  rem announce new glasgow concert us band rem h...\n",
              "2223       politics  how political squabbles snowball it s become c...\n",
              "2224          sport  souness delight at euro progress boss graeme s...\n",
              "\n",
              "[2225 rows x 2 columns]"
            ]
          },
          "metadata": {
            "tags": []
          },
          "execution_count": 2
        }
      ]
    },
    {
      "cell_type": "code",
      "metadata": {
        "id": "AhMxYzxyRKv2",
        "outputId": "e403f88e-908f-444b-f3e0-d5e5e71682ac",
        "colab": {
          "base_uri": "https://localhost:8080/",
          "height": 407
        }
      },
      "source": [
        "bbc['category_id'] = bbc['category'].factorize()[0]\n",
        "bbc"
      ],
      "execution_count": 3,
      "outputs": [
        {
          "output_type": "execute_result",
          "data": {
            "text/html": [
              "<div>\n",
              "<style scoped>\n",
              "    .dataframe tbody tr th:only-of-type {\n",
              "        vertical-align: middle;\n",
              "    }\n",
              "\n",
              "    .dataframe tbody tr th {\n",
              "        vertical-align: top;\n",
              "    }\n",
              "\n",
              "    .dataframe thead th {\n",
              "        text-align: right;\n",
              "    }\n",
              "</style>\n",
              "<table border=\"1\" class=\"dataframe\">\n",
              "  <thead>\n",
              "    <tr style=\"text-align: right;\">\n",
              "      <th></th>\n",
              "      <th>category</th>\n",
              "      <th>text</th>\n",
              "      <th>category_id</th>\n",
              "    </tr>\n",
              "  </thead>\n",
              "  <tbody>\n",
              "    <tr>\n",
              "      <th>0</th>\n",
              "      <td>tech</td>\n",
              "      <td>tv future in the hands of viewers with home th...</td>\n",
              "      <td>0</td>\n",
              "    </tr>\n",
              "    <tr>\n",
              "      <th>1</th>\n",
              "      <td>business</td>\n",
              "      <td>worldcom boss  left books alone  former worldc...</td>\n",
              "      <td>1</td>\n",
              "    </tr>\n",
              "    <tr>\n",
              "      <th>2</th>\n",
              "      <td>sport</td>\n",
              "      <td>tigers wary of farrell  gamble  leicester say ...</td>\n",
              "      <td>2</td>\n",
              "    </tr>\n",
              "    <tr>\n",
              "      <th>3</th>\n",
              "      <td>sport</td>\n",
              "      <td>yeading face newcastle in fa cup premiership s...</td>\n",
              "      <td>2</td>\n",
              "    </tr>\n",
              "    <tr>\n",
              "      <th>4</th>\n",
              "      <td>entertainment</td>\n",
              "      <td>ocean s twelve raids box office ocean s twelve...</td>\n",
              "      <td>3</td>\n",
              "    </tr>\n",
              "    <tr>\n",
              "      <th>...</th>\n",
              "      <td>...</td>\n",
              "      <td>...</td>\n",
              "      <td>...</td>\n",
              "    </tr>\n",
              "    <tr>\n",
              "      <th>2220</th>\n",
              "      <td>business</td>\n",
              "      <td>cars pull down us retail figures us retail sal...</td>\n",
              "      <td>1</td>\n",
              "    </tr>\n",
              "    <tr>\n",
              "      <th>2221</th>\n",
              "      <td>politics</td>\n",
              "      <td>kilroy unveils immigration policy ex-chatshow ...</td>\n",
              "      <td>4</td>\n",
              "    </tr>\n",
              "    <tr>\n",
              "      <th>2222</th>\n",
              "      <td>entertainment</td>\n",
              "      <td>rem announce new glasgow concert us band rem h...</td>\n",
              "      <td>3</td>\n",
              "    </tr>\n",
              "    <tr>\n",
              "      <th>2223</th>\n",
              "      <td>politics</td>\n",
              "      <td>how political squabbles snowball it s become c...</td>\n",
              "      <td>4</td>\n",
              "    </tr>\n",
              "    <tr>\n",
              "      <th>2224</th>\n",
              "      <td>sport</td>\n",
              "      <td>souness delight at euro progress boss graeme s...</td>\n",
              "      <td>2</td>\n",
              "    </tr>\n",
              "  </tbody>\n",
              "</table>\n",
              "<p>2225 rows × 3 columns</p>\n",
              "</div>"
            ],
            "text/plain": [
              "           category  ... category_id\n",
              "0              tech  ...           0\n",
              "1          business  ...           1\n",
              "2             sport  ...           2\n",
              "3             sport  ...           2\n",
              "4     entertainment  ...           3\n",
              "...             ...  ...         ...\n",
              "2220       business  ...           1\n",
              "2221       politics  ...           4\n",
              "2222  entertainment  ...           3\n",
              "2223       politics  ...           4\n",
              "2224          sport  ...           2\n",
              "\n",
              "[2225 rows x 3 columns]"
            ]
          },
          "metadata": {
            "tags": []
          },
          "execution_count": 3
        }
      ]
    },
    {
      "cell_type": "code",
      "metadata": {
        "id": "VuCOLZ1gShEl",
        "outputId": "690f9c26-0063-44f0-e4c1-e25c35cbb540",
        "colab": {
          "base_uri": "https://localhost:8080/",
          "height": 198
        }
      },
      "source": [
        "category_df = bbc[['category', 'category_id']].drop_duplicates().sort_values('category_id')\n",
        "category_df"
      ],
      "execution_count": 4,
      "outputs": [
        {
          "output_type": "execute_result",
          "data": {
            "text/html": [
              "<div>\n",
              "<style scoped>\n",
              "    .dataframe tbody tr th:only-of-type {\n",
              "        vertical-align: middle;\n",
              "    }\n",
              "\n",
              "    .dataframe tbody tr th {\n",
              "        vertical-align: top;\n",
              "    }\n",
              "\n",
              "    .dataframe thead th {\n",
              "        text-align: right;\n",
              "    }\n",
              "</style>\n",
              "<table border=\"1\" class=\"dataframe\">\n",
              "  <thead>\n",
              "    <tr style=\"text-align: right;\">\n",
              "      <th></th>\n",
              "      <th>category</th>\n",
              "      <th>category_id</th>\n",
              "    </tr>\n",
              "  </thead>\n",
              "  <tbody>\n",
              "    <tr>\n",
              "      <th>0</th>\n",
              "      <td>tech</td>\n",
              "      <td>0</td>\n",
              "    </tr>\n",
              "    <tr>\n",
              "      <th>1</th>\n",
              "      <td>business</td>\n",
              "      <td>1</td>\n",
              "    </tr>\n",
              "    <tr>\n",
              "      <th>2</th>\n",
              "      <td>sport</td>\n",
              "      <td>2</td>\n",
              "    </tr>\n",
              "    <tr>\n",
              "      <th>4</th>\n",
              "      <td>entertainment</td>\n",
              "      <td>3</td>\n",
              "    </tr>\n",
              "    <tr>\n",
              "      <th>5</th>\n",
              "      <td>politics</td>\n",
              "      <td>4</td>\n",
              "    </tr>\n",
              "  </tbody>\n",
              "</table>\n",
              "</div>"
            ],
            "text/plain": [
              "        category  category_id\n",
              "0           tech            0\n",
              "1       business            1\n",
              "2          sport            2\n",
              "4  entertainment            3\n",
              "5       politics            4"
            ]
          },
          "metadata": {
            "tags": []
          },
          "execution_count": 4
        }
      ]
    },
    {
      "cell_type": "code",
      "metadata": {
        "id": "8OoQcS0pYO-0"
      },
      "source": [
        "category_to_id = dict(category_df.values)\n",
        "id_to_category = dict(category_df[['category_id', 'category']].values)"
      ],
      "execution_count": 5,
      "outputs": []
    },
    {
      "cell_type": "code",
      "metadata": {
        "id": "tgEo9lC7YYZf",
        "outputId": "e20bb036-4310-438c-f046-4d2d7f9791aa",
        "colab": {
          "base_uri": "https://localhost:8080/",
          "height": 35
        }
      },
      "source": [
        "id_to_category"
      ],
      "execution_count": 6,
      "outputs": [
        {
          "output_type": "execute_result",
          "data": {
            "text/plain": [
              "{0: 'tech', 1: 'business', 2: 'sport', 3: 'entertainment', 4: 'politics'}"
            ]
          },
          "metadata": {
            "tags": []
          },
          "execution_count": 6
        }
      ]
    },
    {
      "cell_type": "code",
      "metadata": {
        "id": "emzRKtJHTbpB"
      },
      "source": [
        "tfidf = TfidfVectorizer(sublinear_tf=True, min_df=5, norm='l2', encoding='latin-1', ngram_range=(1, 2), stop_words='english')\n",
        "labels = bbc['category_id']\n",
        "features = tfidf.fit_transform(bbc['text']).toarray()"
      ],
      "execution_count": 7,
      "outputs": []
    },
    {
      "cell_type": "code",
      "metadata": {
        "id": "pIwEVDXwV5Or",
        "outputId": "4ced073a-807f-49a4-d0e7-a653a1d1e582",
        "colab": {
          "base_uri": "https://localhost:8080/",
          "height": 104
        }
      },
      "source": [
        "sorted(category_to_id.items())"
      ],
      "execution_count": 9,
      "outputs": [
        {
          "output_type": "execute_result",
          "data": {
            "text/plain": [
              "[('business', 1),\n",
              " ('entertainment', 3),\n",
              " ('politics', 4),\n",
              " ('sport', 2),\n",
              " ('tech', 0)]"
            ]
          },
          "metadata": {
            "tags": []
          },
          "execution_count": 9
        }
      ]
    },
    {
      "cell_type": "code",
      "metadata": {
        "id": "Ggo6dL2nYyXp",
        "outputId": "0c6bc131-e74d-4ede-8b30-fdb34b3e73ce",
        "colab": {
          "base_uri": "https://localhost:8080/",
          "height": 795
        }
      },
      "source": [
        "from sklearn.feature_selection import chi2\n",
        "\n",
        "N = 3  # We are going to look for top 3 categories\n",
        "\n",
        "#For each category, find words that are highly corelated to it\n",
        "for category, category_id in sorted(category_to_id.items()):\n",
        "  features_chi2 = chi2(features, labels == category_id)                   # Do chi2 analyses of all items in this category\n",
        "  indices = np.argsort(features_chi2[0])                                  # Sorts the indices of features_chi2[0] - the chi-squared stats of each feature\n",
        "  feature_names = np.array(tfidf.get_feature_names())[indices]            # Converts indices to feature names ( in increasing order of chi-squared stat values)\n",
        "  unigrams = [v for v in feature_names if len(v.split(' ')) == 1]         # List of single word features ( in increasing order of chi-squared stat values)\n",
        "  bigrams = [v for v in feature_names if len(v.split(' ')) == 2]          # List for two-word features ( in increasing order of chi-squared stat values)\n",
        "  print(\"# '{}':\".format(category))\n",
        "  print(\"  . Most correlated unigrams:\\n       . {}\".format('\\n       . '.join(unigrams[-N:]))) # Print 3 unigrams with highest Chi squared stat\n",
        "  print(\"  . Most correlated bigrams:\\n       . {}\".format('\\n       . '.join(bigrams[-N:]))) # Print 3 bigrams with highest Chi squared stat"
      ],
      "execution_count": 11,
      "outputs": [
        {
          "output_type": "stream",
          "text": [
            "# 'business':\n",
            "  . Most correlated unigrams:\n",
            "       . oil\n",
            "       . growth\n",
            "       . shares\n",
            "  . Most correlated bigrams:\n",
            "       . analysts said\n",
            "       . economic growth\n",
            "       . stock market\n",
            "# 'entertainment':\n",
            "  . Most correlated unigrams:\n",
            "       . singer\n",
            "       . actor\n",
            "       . film\n",
            "  . Most correlated bigrams:\n",
            "       . los angeles\n",
            "       . film festival\n",
            "       . box office\n",
            "# 'politics':\n",
            "  . Most correlated unigrams:\n",
            "       . blair\n",
            "       . election\n",
            "       . labour\n",
            "  . Most correlated bigrams:\n",
            "       . prime minister\n",
            "       . tony blair\n",
            "       . mr blair\n",
            "# 'sport':\n",
            "  . Most correlated unigrams:\n",
            "       . coach\n",
            "       . match\n",
            "       . cup\n",
            "  . Most correlated bigrams:\n",
            "       . grand slam\n",
            "       . australian open\n",
            "       . champions league\n",
            "# 'tech':\n",
            "  . Most correlated unigrams:\n",
            "       . technology\n",
            "       . software\n",
            "       . users\n",
            "  . Most correlated bigrams:\n",
            "       . anti virus\n",
            "       . mobile phones\n",
            "       . mobile phone\n"
          ],
          "name": "stdout"
        }
      ]
    },
    {
      "cell_type": "code",
      "metadata": {
        "id": "9hlCslpnZiu9",
        "outputId": "72526c0c-6a13-4b50-e8df-8d276bc9e7cf",
        "colab": {
          "base_uri": "https://localhost:8080/",
          "height": 86
        }
      },
      "source": [
        "features_chi2"
      ],
      "execution_count": 12,
      "outputs": [
        {
          "output_type": "execute_result",
          "data": {
            "text/plain": [
              "(array([0.00355164, 0.29252643, 0.67297617, ..., 0.02810703, 0.13112208,\n",
              "        0.17836794]),\n",
              " array([0.95247768, 0.58860607, 0.4120159 , ..., 0.86685744, 0.71727145,\n",
              "        0.67277957]))"
            ]
          },
          "metadata": {
            "tags": []
          },
          "execution_count": 12
        }
      ]
    },
    {
      "cell_type": "code",
      "metadata": {
        "id": "RdS8JkUVZjEt"
      },
      "source": [
        "from sklearn.manifold import TSNE\n",
        "\n",
        "# Sampling a subset of our dataset because t-SNE is computationally expensive\n",
        "SAMPLE_SIZE = int(len(features) * 0.3)\n",
        "np.random.seed(0)\n",
        "indices = np.random.choice(range(len(features)), size=SAMPLE_SIZE, replace=False)          # Randomly select 30 % of samples\n",
        "projected_features = TSNE(n_components=2, random_state=0).fit_transform(features[indices]) # Array of all projected features of 30% of Randomly chosen samples "
      ],
      "execution_count": 13,
      "outputs": []
    },
    {
      "cell_type": "code",
      "metadata": {
        "id": "It2JuBYMam1N",
        "outputId": "9616eeb5-d455-49d8-f0f1-dcf6a9cbef48",
        "colab": {
          "base_uri": "https://localhost:8080/",
          "height": 1000
        }
      },
      "source": [
        "my_id = 0 # Select a category_id\n",
        "projected_features[(labels[indices] == my_id).values]"
      ],
      "execution_count": 14,
      "outputs": [
        {
          "output_type": "execute_result",
          "data": {
            "text/plain": [
              "array([[ -0.16318959, -34.774166  ],\n",
              "       [ -7.4001145 , -21.932173  ],\n",
              "       [-13.47091   , -26.779797  ],\n",
              "       [ -2.9177837 , -30.838398  ],\n",
              "       [  1.2880018 ,   9.515079  ],\n",
              "       [ -5.5880485 , -18.306005  ],\n",
              "       [-10.556862  , -19.946003  ],\n",
              "       [-10.604404  , -11.073941  ],\n",
              "       [  0.43310818, -15.034451  ],\n",
              "       [  3.0339568 , -29.396107  ],\n",
              "       [-18.82653   , -32.288883  ],\n",
              "       [ -4.202493  , -16.4908    ],\n",
              "       [  0.10764528,  -8.134516  ],\n",
              "       [ -0.07343149, -27.399202  ],\n",
              "       [  4.490872  , -17.756474  ],\n",
              "       [ -2.930044  , -30.81452   ],\n",
              "       [ -5.7378526 , -10.311122  ],\n",
              "       [ -6.5839987 , -13.346011  ],\n",
              "       [ -6.835629  , -17.658325  ],\n",
              "       [ -1.7854143 , -36.18077   ],\n",
              "       [ -2.9322968 , -34.106213  ],\n",
              "       [-17.832575  , -31.916248  ],\n",
              "       [ -7.2202554 , -17.777195  ],\n",
              "       [-10.436928  , -25.830317  ],\n",
              "       [-10.717158  , -27.027716  ],\n",
              "       [ -4.7013955 , -22.477373  ],\n",
              "       [ 31.966625  ,  -9.982791  ],\n",
              "       [-11.602151  , -31.450144  ],\n",
              "       [ -6.5369363 , -24.328382  ],\n",
              "       [ -4.3305707 , -32.7641    ],\n",
              "       [ -9.215282  , -33.26808   ],\n",
              "       [-16.01942   , -20.64695   ],\n",
              "       [ -1.3671186 , -34.61693   ],\n",
              "       [ -3.924887  , -23.317854  ],\n",
              "       [  0.43303227, -15.034279  ],\n",
              "       [-11.491042  , -13.184127  ],\n",
              "       [  0.0383771 , -27.37986   ],\n",
              "       [ -5.877003  , -24.64115   ],\n",
              "       [-19.176943  , -32.42153   ],\n",
              "       [-11.554203  , -13.939569  ],\n",
              "       [ -7.526296  , -21.281439  ],\n",
              "       [ 32.25211   ,  -8.710271  ],\n",
              "       [ -6.5067105 , -31.286982  ],\n",
              "       [ -3.678042  , -27.605003  ],\n",
              "       [  9.754793  , -21.218187  ],\n",
              "       [  2.0690818 , -24.222605  ],\n",
              "       [-12.746939  , -12.692845  ],\n",
              "       [ -2.4697142 , -19.199688  ],\n",
              "       [ -0.67460686, -22.394524  ],\n",
              "       [  6.310044  , -13.859916  ],\n",
              "       [ -5.595667  , -23.127499  ],\n",
              "       [  1.8372242 , -12.170185  ],\n",
              "       [  3.1494217 , -24.982311  ],\n",
              "       [ -1.5616859 , -32.185467  ],\n",
              "       [ -6.923658  , -16.254238  ],\n",
              "       [-13.491412  , -26.649782  ],\n",
              "       [-10.048579  , -33.995815  ],\n",
              "       [ -1.8666525 , -10.647569  ],\n",
              "       [ -3.6771595 , -27.60406   ],\n",
              "       [-10.528259  ,  -9.266792  ],\n",
              "       [-13.53768   , -24.501188  ],\n",
              "       [ -2.1756585 , -16.483885  ],\n",
              "       [ -3.2265568 , -33.04719   ],\n",
              "       [ -2.5652795 , -36.662613  ],\n",
              "       [  3.6742144 , -16.786434  ],\n",
              "       [ -0.59918725, -22.77695   ],\n",
              "       [ -8.872255  , -10.617419  ],\n",
              "       [ -4.53135   ,  -9.943928  ],\n",
              "       [ -7.616633  , -11.761184  ],\n",
              "       [ -6.5131106 , -13.466868  ],\n",
              "       [ -6.754926  , -32.05309   ],\n",
              "       [ -9.706721  , -13.22169   ],\n",
              "       [-10.556847  , -19.946005  ],\n",
              "       [ -3.232315  , -13.513817  ],\n",
              "       [-10.138658  ,  -7.964877  ],\n",
              "       [  3.6120477 , -16.76247   ],\n",
              "       [-12.518308  , -17.905848  ],\n",
              "       [ -9.855528  , -22.837309  ],\n",
              "       [ -9.635495  , -30.975813  ],\n",
              "       [-13.697515  , -18.467852  ],\n",
              "       [ -1.9016643 , -22.287888  ],\n",
              "       [  0.9794068 , -18.537487  ],\n",
              "       [ -8.952812  , -19.958652  ],\n",
              "       [ -2.1661038 , -19.11157   ],\n",
              "       [-15.64092   , -18.738644  ],\n",
              "       [  6.1751423 , -22.330887  ],\n",
              "       [-11.274647  , -23.948385  ],\n",
              "       [ -7.967185  , -25.82314   ],\n",
              "       [  0.10764001,  -8.134516  ],\n",
              "       [-11.416544  , -33.834923  ],\n",
              "       [  0.3569591 , -20.912405  ],\n",
              "       [ -6.3494925 , -19.217394  ],\n",
              "       [ -3.8813818 , -25.118074  ],\n",
              "       [ -4.526261  , -24.650185  ],\n",
              "       [ -0.7736389 , -18.434404  ],\n",
              "       [-10.859005  , -24.949196  ],\n",
              "       [ -9.694763  , -13.22774   ],\n",
              "       [ -9.996111  , -32.193584  ],\n",
              "       [  2.8194118 , -21.565538  ],\n",
              "       [ -3.4986436 , -10.633368  ],\n",
              "       [ -9.554478  , -25.45173   ],\n",
              "       [ -7.974323  , -32.086548  ],\n",
              "       [ -9.8363905 , -16.857182  ],\n",
              "       [ -5.070995  , -21.549402  ],\n",
              "       [-16.046637  , -20.60459   ],\n",
              "       [ -7.4065237 , -23.277111  ],\n",
              "       [ -3.0097375 , -13.192973  ],\n",
              "       [ -6.1301365 , -17.085693  ],\n",
              "       [ -3.5559301 , -37.149193  ],\n",
              "       [  6.309494  , -13.860261  ],\n",
              "       [-13.70709   , -18.473549  ],\n",
              "       [ 17.657955  , -20.69006   ],\n",
              "       [-10.54098   , -33.219837  ],\n",
              "       [ -3.4860377 , -16.469154  ],\n",
              "       [  3.18041   , -31.104475  ],\n",
              "       [  1.8316083 , -12.166842  ],\n",
              "       [-11.745318  ,  10.031521  ]], dtype=float32)"
            ]
          },
          "metadata": {
            "tags": []
          },
          "execution_count": 14
        }
      ]
    },
    {
      "cell_type": "code",
      "metadata": {
        "id": "YWRsofrma2qa",
        "outputId": "1c266623-b293-4d45-f097-4d2ffe712ed3",
        "colab": {
          "base_uri": "https://localhost:8080/",
          "height": 300
        }
      },
      "source": [
        "colors = ['pink', 'green', 'midnightblue', 'orange', 'darkgrey']\n",
        "\n",
        "# Find points belonging to each category and plot them\n",
        "for category, category_id in sorted(category_to_id.items()):\n",
        "    points = projected_features[(labels[indices] == category_id).values]\n",
        "    plt.scatter(points[:, 0], points[:, 1], s=30, c=colors[category_id], label=category)\n",
        "plt.title(\"tf-idf feature vector for each article, projected on 2 dimensions.\",\n",
        "          fontdict=dict(fontsize=15))\n",
        "plt.legend()"
      ],
      "execution_count": 15,
      "outputs": [
        {
          "output_type": "execute_result",
          "data": {
            "text/plain": [
              "<matplotlib.legend.Legend at 0x7f3cc5e30940>"
            ]
          },
          "metadata": {
            "tags": []
          },
          "execution_count": 15
        },
        {
          "output_type": "display_data",
          "data": {
            "image/png": "[encoded data removed]",
            "text/plain": [
              "<Figure size 432x288 with 1 Axes>"
            ]
          },
          "metadata": {
            "tags": [],
            "needs_background": "light"
          }
        }
      ]
    },
    {
      "cell_type": "code",
      "metadata": {
        "id": "JGSRHcmKa5IL",
        "outputId": "d749f902-8089-4849-ae82-c70bf4119304",
        "colab": {
          "base_uri": "https://localhost:8080/",
          "height": 35
        }
      },
      "source": [
        "features.shape"
      ],
      "execution_count": 16,
      "outputs": [
        {
          "output_type": "execute_result",
          "data": {
            "text/plain": [
              "(2225, 14415)"
            ]
          },
          "metadata": {
            "tags": []
          },
          "execution_count": 16
        }
      ]
    },
    {
      "cell_type": "code",
      "metadata": {
        "id": "HZC3ItnobP4N"
      },
      "source": [
        "from sklearn.linear_model import LogisticRegression\n",
        "from sklearn.ensemble import RandomForestClassifier\n",
        "from sklearn.naive_bayes import MultinomialNB\n",
        "\n",
        "from sklearn.model_selection import cross_val_score\n",
        "\n",
        "\n",
        "models = [\n",
        "    RandomForestClassifier(n_estimators=200, max_depth=3, random_state=0),\n",
        "    MultinomialNB(),\n",
        "    LogisticRegression(random_state=0),\n",
        "]"
      ],
      "execution_count": 17,
      "outputs": []
    },
    {
      "cell_type": "code",
      "metadata": {
        "id": "xul0wuIQbWHF"
      },
      "source": [
        "CV = 5  # Cross Validate with 5 different folds of 20% data ( 80-20 split with 5 folds )\n",
        "\n",
        "#Create a data frame that will store the results for all 5 trials of the 3 different models\n",
        "cv_df = pd.DataFrame(index=range(CV * len(models)))\n",
        "entries = [] # Initially all entries are empty"
      ],
      "execution_count": 18,
      "outputs": []
    },
    {
      "cell_type": "code",
      "metadata": {
        "id": "xVlikDq1bYBb"
      },
      "source": [
        "for model in models:\n",
        "  model_name = model.__class__.__name__\n",
        "  # create 5 models with different 20% test sets, and store their accuracies\n",
        "  accuracies = cross_val_score(model, features, labels, scoring='accuracy', cv=CV)\n",
        "  # Append all 5 accuracies into the entries list ( after all 3 models are run, there will be 3x5 = 15 entries)\n",
        "  for fold_idx, accuracy in enumerate(accuracies):\n",
        "    entries.append((model_name, fold_idx, accuracy))"
      ],
      "execution_count": 19,
      "outputs": []
    },
    {
      "cell_type": "code",
      "metadata": {
        "id": "bEMGwNfxbb0x"
      },
      "source": [
        "cv_df = pd.DataFrame(entries, columns=['model_name', 'fold_idx', 'accuracy'])\n"
      ],
      "execution_count": 20,
      "outputs": []
    },
    {
      "cell_type": "code",
      "metadata": {
        "id": "FPfE8TfebzSz",
        "outputId": "448ce1ed-78e0-4795-e23c-ddcf104c7f58",
        "colab": {
          "base_uri": "https://localhost:8080/",
          "height": 297
        }
      },
      "source": [
        "sns.boxplot(x='model_name', y='accuracy', data=cv_df)\n",
        "sns.stripplot(x='model_name', y='accuracy', data=cv_df, \n",
        "              size=8, jitter=True, edgecolor=\"gray\", linewidth=2)"
      ],
      "execution_count": 21,
      "outputs": [
        {
          "output_type": "execute_result",
          "data": {
            "text/plain": [
              "<matplotlib.axes._subplots.AxesSubplot at 0x7f3cc4b65358>"
            ]
          },
          "metadata": {
            "tags": []
          },
          "execution_count": 21
        },
        {
          "output_type": "display_data",
          "data": {
            "image/png": "[encoded data removed]",
            "text/plain": [
              "<Figure size 432x288 with 1 Axes>"
            ]
          },
          "metadata": {
            "tags": [],
            "needs_background": "light"
          }
        }
      ]
    },
    {
      "cell_type": "code",
      "metadata": {
        "id": "Ew_Tl2N8b1Xg",
        "outputId": "5d93d6c7-dae2-49b2-c694-fd9c069f06c9",
        "colab": {
          "base_uri": "https://localhost:8080/",
          "height": 104
        }
      },
      "source": [
        "cv_df.groupby('model_name').accuracy.mean()"
      ],
      "execution_count": 22,
      "outputs": [
        {
          "output_type": "execute_result",
          "data": {
            "text/plain": [
              "model_name\n",
              "LogisticRegression        0.983371\n",
              "MultinomialNB             0.971236\n",
              "RandomForestClassifier    0.826517\n",
              "Name: accuracy, dtype: float64"
            ]
          },
          "metadata": {
            "tags": []
          },
          "execution_count": 22
        }
      ]
    },
    {
      "cell_type": "code",
      "metadata": {
        "id": "-B8m_Qklb37T"
      },
      "source": [
        "from sklearn.model_selection import train_test_split\n",
        "\n",
        "model = LogisticRegression(random_state=0)\n",
        "\n",
        "#Split Data \n",
        "X_train, X_test, y_train, y_test, indices_train, indices_test = train_test_split(features, labels, bbc.index, test_size=0.33, random_state=0)\n",
        "\n",
        "#Train Algorithm\n",
        "model.fit(X_train, y_train)\n",
        "\n",
        "# Make Predictions\n",
        "y_pred_proba = model.predict_proba(X_test)\n",
        "y_pred = model.predict(X_test)"
      ],
      "execution_count": 30,
      "outputs": []
    },
    {
      "cell_type": "code",
      "metadata": {
        "id": "HTlrue1ycCz3",
        "outputId": "61ef1fe6-7081-4afe-9e8e-e24f7ffc8054",
        "colab": {
          "base_uri": "https://localhost:8080/",
          "height": 358
        }
      },
      "source": [
        "from sklearn.metrics import confusion_matrix, accuracy_score\n",
        "import seaborn as sns\n",
        "\n",
        "conf_mat = confusion_matrix(y_test, y_pred)\n",
        "sns.heatmap(conf_mat, annot=True, fmt='d',\n",
        "            xticklabels=category_df.category.values, yticklabels=category_df.category.values)\n",
        "plt.ylabel('Actual')\n",
        "plt.xlabel('Predicted')"
      ],
      "execution_count": 31,
      "outputs": [
        {
          "output_type": "execute_result",
          "data": {
            "text/plain": [
              "Text(0.5, 15.0, 'Predicted')"
            ]
          },
          "metadata": {
            "tags": []
          },
          "execution_count": 31
        },
        {
          "output_type": "display_data",
          "data": {
            "image/png": "[encoded data removed]",
            "text/plain": [
              "<Figure size 432x288 with 2 Axes>"
            ]
          },
          "metadata": {
            "tags": [],
            "needs_background": "light"
          }
        }
      ]
    },
    {
      "cell_type": "code",
      "metadata": {
        "id": "477BfiCWcvs5",
        "outputId": "f920407c-5555-474b-8ec0-692d628a3bc7",
        "colab": {
          "base_uri": "https://localhost:8080/",
          "height": 35
        }
      },
      "source": [
        "accuracy_score(y_test, y_pred)"
      ],
      "execution_count": 32,
      "outputs": [
        {
          "output_type": "execute_result",
          "data": {
            "text/plain": [
              "0.9795918367346939"
            ]
          },
          "metadata": {
            "tags": []
          },
          "execution_count": 32
        }
      ]
    },
    {
      "cell_type": "code",
      "metadata": {
        "id": "Rc0yqJSIdQ5-"
      },
      "source": [
        ""
      ],
      "execution_count": null,
      "outputs": []
    }
  ]
}